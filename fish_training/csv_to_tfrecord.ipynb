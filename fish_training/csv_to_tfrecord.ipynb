{
 "cells": [
  {
   "cell_type": "code",
   "execution_count": 3,
   "metadata": {},
   "outputs": [
    {
     "name": "stdout",
     "output_type": "stream",
     "text": [
      "成功产生tfrecord文件，保存在路径:training/train.tfrecord\n",
      "成功产生tfrecord文件，保存在路径:training/test.tfrecord\n"
     ]
    }
   ],
   "source": [
    "import os\n",
    "import pandas as pd\n",
    "import tensorflow as tf\n",
    "from object_detection.utils import dataset_util\n",
    "import shutil\n",
    "\n",
    "def csv2tfrecord(csv_path, imageDir_path, tfrecord_path):\n",
    "    objectInfo_df = pd.read_csv(csv_path)\n",
    "    tfrecord_writer = tf.python_io.TFRecordWriter(tfrecord_path)\n",
    "    for filename, group in objectInfo_df.groupby('filename'):\n",
    "        height = group.iloc[0]['height']\n",
    "        width = group.iloc[0]['width']\n",
    "        filename_bytes = filename.encode('utf-8')\n",
    "        image_path = os.path.join(imageDir_path, filename)\n",
    "        with open(image_path, 'rb') as file:\n",
    "            encoded_jpg = file.read()\n",
    "        image_format = b'jpg'\n",
    "        xmin_list = list(group['xmin'] / width)\n",
    "        xmax_list = list(group['xmax'] / width)\n",
    "        ymin_list = list(group['ymin'] / height)\n",
    "        ymax_list = list(group['ymax'] / height)\n",
    "        classText_list = [classText.encode('utf-8') for classText in group['class']]\n",
    "        classLabel_list = [classText_to_classLabel(classText) for classText in group['class']]\n",
    "        tf_example = tf.train.Example(\n",
    "            features = tf.train.Features(\n",
    "                feature = {\n",
    "                    'image/height': dataset_util.int64_feature(height),\n",
    "                    'image/width': dataset_util.int64_feature(width),\n",
    "                    'image/filename': dataset_util.bytes_feature(filename_bytes),\n",
    "                    'image/source_id': dataset_util.bytes_feature(filename_bytes),\n",
    "                    'image/encoded': dataset_util.bytes_feature(encoded_jpg),\n",
    "                    'image/format': dataset_util.bytes_feature(image_format),\n",
    "                    'image/object/bbox/xmin': dataset_util.float_list_feature(xmin_list),\n",
    "                    'image/object/bbox/xmax': dataset_util.float_list_feature(xmax_list),\n",
    "                    'image/object/bbox/ymin': dataset_util.float_list_feature(ymin_list),\n",
    "                    'image/object/bbox/ymax': dataset_util.float_list_feature(ymax_list),\n",
    "                    'image/object/class/text': dataset_util.bytes_list_feature(classText_list),\n",
    "                    'image/object/class/label': dataset_util.int64_list_feature(classLabel_list),\n",
    "                }))\n",
    "        tfrecord_writer.write(tf_example.SerializeToString())\n",
    "    tfrecord_writer.close()\n",
    "    print('成功产生tfrecord文件，保存在路径:%s' %tfrecord_path)\n",
    "\n",
    "#如果训练自己的模型，目标检测的类别不同，需要修改此处\n",
    "def classText_to_classLabel(row_label):\n",
    "    if row_label == 'fish':\n",
    "        return 1\n",
    "    elif row_label == 'human_face':\n",
    "        return 2\n",
    "    else:\n",
    "        return None\n",
    "\n",
    "dir_name = 'training'\n",
    "if os.path.isdir(dir_name):\n",
    "    shutil.rmtree(dir_name)\n",
    "os.mkdir(dir_name)\n",
    "csv2tfrecord('train.csv', 'smaller_images', 'training/train.tfrecord')\n",
    "csv2tfrecord('test.csv', 'smaller_images', 'training/test.tfrecord')"
   ]
  },
  {
   "cell_type": "code",
   "execution_count": null,
   "metadata": {},
   "outputs": [],
   "source": []
  }
 ],
 "metadata": {
  "kernelspec": {
   "display_name": "Python 3",
   "language": "python",
   "name": "python3"
  },
  "language_info": {
   "codemirror_mode": {
    "name": "ipython",
    "version": 3
   },
   "file_extension": ".py",
   "mimetype": "text/x-python",
   "name": "python",
   "nbconvert_exporter": "python",
   "pygments_lexer": "ipython3",
   "version": "3.7.3"
  }
 },
 "nbformat": 4,
 "nbformat_minor": 2
}
