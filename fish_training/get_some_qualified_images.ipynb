{
 "cells": [
  {
   "cell_type": "code",
   "execution_count": 1,
   "metadata": {},
   "outputs": [],
   "source": [
    "import os\n",
    "import random\n",
    "from PIL import Image\n",
    "import shutil\n",
    "\n",
    "#获取1000张图片中随机选出数量为sample_number*2的一部分图片的路径\n",
    "def get_some_imagePath(dirPath, sample_number):\n",
    "    fileName_list = os.listdir(dirPath)\n",
    "    all_filePath_list = [os.path.join(dirPath, fileName) for fileName in fileName_list]\n",
    "    all_imagePath_list = [filePath for filePath in all_filePath_list if '.jpg' in filePath]\n",
    "    some_filePath_list = random.sample(all_filePath_list, k=sample_number*2)\n",
    "    return some_filePath_list\n",
    "\n",
    "#获取一部分像素足够，即长，宽都大于300的图片\n",
    "def get_some_qualified_images(dirPath, sample_number, new_dirPath):\n",
    "    some_imagePath_list = get_some_imagePath(dirPath, sample_number)\n",
    "    if os.path.isdir(new_dirPath):\n",
    "        shutil.rmtree(new_dirPath)\n",
    "    os.mkdir(new_dirPath)\n",
    "    i = 0\n",
    "    for imagePath in some_imagePath_list:\n",
    "        image = Image.open(imagePath)\n",
    "        width, height = image.size\n",
    "        if width > 300 and height > 300:\n",
    "            i += 1\n",
    "            new_imagePath = 'selected_images/%03d.jpg' %i\n",
    "            shutil.copy(imagePath, new_imagePath)\n",
    "        if i == sample_number:\n",
    "            break\n",
    "\n",
    "#获取数量为100的合格样本存放到selected_images文件夹中\n",
    "get_some_qualified_images('n01440764', 100, 'selected_images')"
   ]
  }
 ],
 "metadata": {
  "kernelspec": {
   "display_name": "Python 3",
   "language": "python",
   "name": "python3"
  },
  "language_info": {
   "codemirror_mode": {
    "name": "ipython",
    "version": 3
   },
   "file_extension": ".py",
   "mimetype": "text/x-python",
   "name": "python",
   "nbconvert_exporter": "python",
   "pygments_lexer": "ipython3",
   "version": "3.7.3"
  }
 },
 "nbformat": 4,
 "nbformat_minor": 2
}
